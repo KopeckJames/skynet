{
 "cells": [
  {
   "cell_type": "code",
   "execution_count": 1,
   "metadata": {},
   "outputs": [],
   "source": [
    "#Importing Dependencies\n",
    "import tkinter as tk\n",
    "from tkinter import filedialog\n",
    "import whisper\n",
    "import deepl\n",
    "import os\n",
    "import torch"
   ]
  },
  {
   "cell_type": "code",
   "execution_count": 2,
   "metadata": {},
   "outputs": [
    {
     "name": "stdout",
     "output_type": "stream",
     "text": [
      "Using device: cuda\n"
     ]
    },
    {
     "name": "stderr",
     "output_type": "stream",
     "text": [
      "c:\\Users\\Cajun\\anaconda3\\envs\\FinalProject\\Lib\\site-packages\\whisper\\__init__.py:150: FutureWarning: You are using `torch.load` with `weights_only=False` (the current default value), which uses the default pickle module implicitly. It is possible to construct malicious pickle data which will execute arbitrary code during unpickling (See https://github.com/pytorch/pytorch/blob/main/SECURITY.md#untrusted-models for more details). In a future release, the default value for `weights_only` will be flipped to `True`. This limits the functions that could be executed during unpickling. Arbitrary objects will no longer be allowed to be loaded via this mode unless they are explicitly allowlisted by the user via `torch.serialization.add_safe_globals`. We recommend you start setting `weights_only=True` for any use case where you don't have full control of the loaded file. Please open an issue on GitHub for any issues related to this experimental feature.\n",
      "  checkpoint = torch.load(fp, map_location=device)\n"
     ]
    }
   ],
   "source": [
    "#Grabbing GPU for Whisper\n",
    "device = \"cuda\" if torch.cuda.is_available() else \"cpu\"\n",
    "print(f\"Using device: {device}\")\n",
    "\n",
    "\n",
    "# Your DeepL API key\n",
    "DEEPL_API_KEY = \"828320a4-c2ec-48d1-952e-6022a2bd8cd6:fx\"\n",
    "\n",
    "# Function to transcribe the audio\n",
    "def transcribe_audio(file_path):\n",
    "    model = whisper.load_model(\"medium\")  # Load Whisper model (base version)\n",
    "    \n",
    "    # Transcribe the audio\n",
    "    result = model.transcribe(file_path, language=\"en\")\n",
    "    \n",
    "    return result['text']\n",
    "\n",
    "# Function to translate the transcribed text\n",
    "def translate_text(text, target_lang=\"EN-US\"):\n",
    "    translator = deepl.Translator(DEEPL_API_KEY)\n",
    "    \n",
    "    # Translate text using DeepL\n",
    "    translated_text = translator.translate_text(text, target_lang=target_lang)\n",
    "    \n",
    "    return translated_text.text\n",
    "\n",
    "# Function to save the translated text\n",
    "def save_translation(translated_text, file_path, output_dir):\n",
    "    file_name = os.path.basename(file_path).split('.')[0] + '_translated.txt'\n",
    "    output_path = os.path.join(output_dir, file_name)\n",
    "    \n",
    "    with open(output_path, 'w') as f:\n",
    "        f.write(translated_text)\n",
    "    \n",
    "    return output_path\n",
    "\n",
    "# Function to handle file selection, transcription, and translation\n",
    "def select_file():\n",
    "    file_path = filedialog.askopenfilename(title=\"Select Audio File\", \n",
    "                                           filetypes=[(\"Audio Files\", \"*.mp3 *.wav *.m4a *.ogg *.flac\")])\n",
    "    if file_path:\n",
    "        output_dir = filedialog.askdirectory(title=\"Select Output Directory\")\n",
    "        if output_dir:\n",
    "            try:\n",
    "                # Step 1: Transcribe the audio\n",
    "                transcribed_text = transcribe_audio(file_path)\n",
    "\n",
    "                # Step 2: Translate the transcription\n",
    "                translated_text = translate_text(transcribed_text, target_lang=\"EN-US\")\n",
    "\n",
    "                # Step 3: Save the translation\n",
    "                translated_file = save_translation(translated_text, file_path, output_dir)\n",
    "\n",
    "                result_label.config(text=f\"Translation saved: {translated_file}\")\n",
    "\n",
    "            except FileNotFoundError as e:\n",
    "                print(f\"FileNotFoundError: {e}\")\n",
    "                result_label.config(text=\"Error: Audio file not found.\")\n",
    "\n",
    "            except Exception as e:\n",
    "                print(f\"Error: {e}\")\n",
    "                result_label.config(text=\"An unexpected error occurred.\")\n",
    "        else:\n",
    "            result_label.config(text=\"Output directory not selected.\")\n",
    "    else:\n",
    "        result_label.config(text=\"No file selected.\")\n",
    "\n",
    "\n",
    "# Create the tkinter window\n",
    "root = tk.Tk()\n",
    "root.title(\"Whisper + DeepL Transcriber & Translator\")\n",
    "\n",
    "# Create the buttons and labels\n",
    "select_button = tk.Button(root, text=\"Select Audio File\", command=select_file)\n",
    "select_button.pack(pady=20)\n",
    "\n",
    "result_label = tk.Label(root, text=\"\")\n",
    "result_label.pack(pady=20)\n",
    "\n",
    "# Run the tkinter event loop\n",
    "root.mainloop()\n"
   ]
  }
 ],
 "metadata": {
  "kernelspec": {
   "display_name": "FinalProject",
   "language": "python",
   "name": "python3"
  },
  "language_info": {
   "codemirror_mode": {
    "name": "ipython",
    "version": 3
   },
   "file_extension": ".py",
   "mimetype": "text/x-python",
   "name": "python",
   "nbconvert_exporter": "python",
   "pygments_lexer": "ipython3",
   "version": "3.11.10"
  }
 },
 "nbformat": 4,
 "nbformat_minor": 2
}
