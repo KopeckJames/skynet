{
 "cells": [
  {
   "cell_type": "code",
   "execution_count": 3,
   "metadata": {},
   "outputs": [],
   "source": [
    "#Importing Dependencies\n",
    "import tkinter as tk\n",
    "from tkinter import filedialog\n",
    "import whisper\n",
    "import deepl\n",
    "import os\n",
    "import torch\n",
    "import moviepy.editor as mp"
   ]
  },
  {
   "cell_type": "code",
   "execution_count": 4,
   "metadata": {},
   "outputs": [
    {
     "name": "stdout",
     "output_type": "stream",
     "text": [
      "Using device: cuda\n",
      "MoviePy - Writing audio in C:/Users/Cajun/Downloads/IS_Intro.wav\n"
     ]
    },
    {
     "name": "stderr",
     "output_type": "stream",
     "text": [
      "                                                                      \r"
     ]
    },
    {
     "name": "stdout",
     "output_type": "stream",
     "text": [
      "MoviePy - Done.\n"
     ]
    }
   ],
   "source": [
    "# Grabbing GPU for Whisper\n",
    "device = \"cuda\" if torch.cuda.is_available() else \"cpu\"\n",
    "print(f\"Using device: {device}\")\n",
    "\n",
    "# Your DeepL API key\n",
    "DEEPL_API_KEY = \"828320a4-c2ec-48d1-952e-6022a2bd8cd6:fx\"\n",
    "\n",
    "# Function to extract audio from a video file\n",
    "def extract_audio_from_video(video_file_path):\n",
    "    video = mp.VideoFileClip(video_file_path)\n",
    "    audio_file_path = os.path.splitext(video_file_path)[0] + \".wav\"\n",
    "    video.audio.write_audiofile(audio_file_path)\n",
    "    return audio_file_path\n",
    "\n",
    "# Function to transcribe the audio\n",
    "def transcribe_audio(file_path):\n",
    "    model = whisper.load_model(\"medium\")  # Load Whisper model (base version)\n",
    "    \n",
    "    # Transcribe the audio\n",
    "    result = model.transcribe(file_path, language=\"en\")\n",
    "    \n",
    "    return result['text']\n",
    "\n",
    "# Function to translate the transcribed text\n",
    "def translate_text(text, target_lang=\"EN-US\"):\n",
    "    translator = deepl.Translator(DEEPL_API_KEY)\n",
    "    \n",
    "    # Translate text using DeepL\n",
    "    translated_text = translator.translate_text(text, target_lang=target_lang)\n",
    "    \n",
    "    return translated_text.text\n",
    "\n",
    "# Function to save the translated text\n",
    "def save_translation(translated_text, file_path, output_dir):\n",
    "    file_name = os.path.basename(file_path).split('.')[0] + '_translated.txt'\n",
    "    output_path = os.path.join(output_dir, file_name)\n",
    "    \n",
    "    with open(output_path, 'w') as f:\n",
    "        f.write(translated_text)\n",
    "    \n",
    "    return output_path\n",
    "\n",
    "# Function to handle file selection, transcription, and translation\n",
    "def select_file():\n",
    "    file_path = filedialog.askopenfilename(title=\"Select Audio/Video File\", \n",
    "                                           filetypes=[(\"Media Files\", \"*.mp3 *.wav *.m4a *.ogg *.flac *.mp4 *.mkv *.avi\")])\n",
    "    if file_path:\n",
    "        output_dir = filedialog.askdirectory(title=\"Select Output Directory\")\n",
    "        if output_dir:\n",
    "            try:\n",
    "                # Check if the selected file is a video\n",
    "                if file_path.endswith((\".mp4\", \".mkv\", \".avi\")):\n",
    "                    # Step 1: Extract audio from the video\n",
    "                    audio_file_path = extract_audio_from_video(file_path)\n",
    "                else:\n",
    "                    # If it's already an audio file\n",
    "                    audio_file_path = file_path\n",
    "\n",
    "                # Step 2: Transcribe the audio\n",
    "                transcribed_text = transcribe_audio(audio_file_path)\n",
    "\n",
    "                # Step 3: Translate the transcription\n",
    "                translated_text = translate_text(transcribed_text, target_lang=\"EN-US\")\n",
    "\n",
    "                # Step 4: Save the translation\n",
    "                translated_file = save_translation(translated_text, file_path, output_dir)\n",
    "\n",
    "                result_label.config(text=f\"Translation saved: {translated_file}\")\n",
    "\n",
    "            except FileNotFoundError as e:\n",
    "                print(f\"FileNotFoundError: {e}\")\n",
    "                result_label.config(text=\"Error: File not found.\")\n",
    "\n",
    "            except Exception as e:\n",
    "                print(f\"Error: {e}\")\n",
    "                result_label.config(text=\"An unexpected error occurred.\")\n",
    "        else:\n",
    "            result_label.config(text=\"Output directory not selected.\")\n",
    "    else:\n",
    "        result_label.config(text=\"No file selected.\")\n",
    "\n",
    "# Create the tkinter window\n",
    "root = tk.Tk()\n",
    "root.title(\"Whisper + DeepL Transcriber & Translator\")\n",
    "root.geometry(\"400x200\")\n",
    "\n",
    "# Create the buttons and labels\n",
    "select_button = tk.Button(root, text=\"Select Audio/Video File\", command=select_file)\n",
    "select_button.pack(pady=20)\n",
    "\n",
    "result_label = tk.Label(root, text=\"\")\n",
    "result_label.pack(pady=20)\n",
    "\n",
    "# Run the tkinter event loop\n",
    "root.mainloop()"
   ]
  }
 ],
 "metadata": {
  "kernelspec": {
   "display_name": "FinalProject",
   "language": "python",
   "name": "python3"
  },
  "language_info": {
   "codemirror_mode": {
    "name": "ipython",
    "version": 3
   },
   "file_extension": ".py",
   "mimetype": "text/x-python",
   "name": "python",
   "nbconvert_exporter": "python",
   "pygments_lexer": "ipython3",
   "version": "3.11.10"
  }
 },
 "nbformat": 4,
 "nbformat_minor": 2
}
